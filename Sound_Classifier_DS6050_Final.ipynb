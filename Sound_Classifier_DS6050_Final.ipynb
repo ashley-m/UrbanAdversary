{
  "nbformat": 4,
  "nbformat_minor": 0,
  "metadata": {
    "colab": {
      "provenance": []
    },
    "kernelspec": {
      "name": "python3",
      "display_name": "Python 3"
    },
    "language_info": {
      "name": "python"
    }
  },
  "cells": [
    {
      "cell_type": "code",
      "execution_count": null,
      "metadata": {
        "id": "mBSFTJ5M_z-H"
      },
      "outputs": [],
      "source": [
        "import random\n",
        "import os\n",
        "import numpy as np\n",
        "import sklearn\n",
        "import torch\n",
        "from torch.cuda import manual_seed_all\n",
        "from torch.backends import cudnn\n",
        "import matplotlib as mpl\n",
        "from matplotlib import pyplot as plt\n",
        "import torchaudio\n",
        "import torchaudio.transforms as T\n",
        "from torchdata.datapipes.iter import FileLister, FileOpener\n",
        "\n",
        "PROJECT_ROOT_DIR = \".\"\n",
        "CHAPTER_ID = \"data\"\n",
        "AUDIO_PATH = os.path.join(PROJECT_ROOT_DIR, \"audio\", CHAPTER_ID)\n",
        "os.makedirs(AUDIO_PATH, exist_ok=True)"
      ]
    },
    {
      "cell_type": "code",
      "source": [
        "# pre spectrogram augmentations\n",
        "# these are examples and can be changed based on domain knowledge\n",
        "\n",
        "time_stretch = T.TimeStretch()\n",
        "def stretch_waveform(waveform, rate=1.2):\n",
        "    # `rate > 1.0` speeds up, `rate < 1.0` slows down\n",
        "    return time_stretch(waveform, rate)\n",
        "\n",
        "pitch_shift = T.PitchShift(sample_rate=44100, n_steps=2)  # Shift up by 2 semitones\n",
        "def shift_pitch(waveform, sample_rate):\n",
        "    return pitch_shift(waveform)\n",
        "\n",
        "def scale_volume(waveform, factor=1.5):\n",
        "    return waveform * factor  # Amplifies waveform by factor\n",
        "\n",
        "def crop_waveform(waveform, crop_size):\n",
        "    start = torch.randint(0, max(1, waveform.size(-1) - crop_size), (1,)).item()\n",
        "    return waveform[:, start:start + crop_size]\n",
        "\n",
        "def apply_reverb(waveform):\n",
        "    reverb = T.Reverberate()\n",
        "    return reverb(waveform)\n",
        "\n",
        "def time_shift(waveform, shift):\n",
        "    return torch.roll(waveform, shifts=shift, dims=-1)\n",
        "\n",
        "def add_noise(waveform, noise_level=0.005):\n",
        "    noise = torch.randn_like(waveform) * noise_level\n",
        "    return waveform + noise\n",
        "\n",
        "# Augment on-the-fly stochastically\n",
        "# again these are just examples and do not necessarily utilize the methods above\n",
        "def augment_waveform(data):\n",
        "    waveform, sample_rate = data\n",
        "    if torch.rand(1).item() > 0.5:\n",
        "        waveform += torch.randn_like(waveform) * 0.005\n",
        "    if torch.rand(1).item() > 0.5:\n",
        "        waveform = torch.roll(waveform, shifts=torch.randint(-5000, 5000, (1,)).item(), dims=-1)\n",
        "    if torch.rand(1).item() > 0.5:\n",
        "        waveform *= torch.FloatTensor(1).uniform_(0.8, 1.5).item()\n",
        "    return waveform, sample_rate\n"
      ],
      "metadata": {
        "id": "3uDKfjRHMuxk"
      },
      "execution_count": null,
      "outputs": []
    },
    {
      "cell_type": "code",
      "source": [
        "# Create a MelSpectrogram transformation\n",
        "mel_spectrogram_transform = T.MelSpectrogram(\n",
        "    sample_rate=44100,         # Default sample rate, change if needed\n",
        "    n_fft=1024,                # Number of FFT bins\n",
        "    hop_length=512,            # Hop length between windows\n",
        "    n_mels=64                  # Number of Mel bands\n",
        ")\n",
        "\n",
        "def waveform_to_spectrogram(data):\n",
        "    waveform, sample_rate = data\n",
        "    spectrogram = mel_spectrogram_transform(waveform)  # Apply the spectrogram transformation\n",
        "    return spectrogram"
      ],
      "metadata": {
        "id": "Ww8OMV8nNZcf"
      },
      "execution_count": null,
      "outputs": []
    },
    {
      "cell_type": "code",
      "source": [
        "# post spectrogram augmentations\n",
        "\n",
        "# Example augmentations, could add more\n",
        "time_mask = T.TimeMasking(time_mask_param=10)\n",
        "\n",
        "freq_mask = T.FrequencyMasking(freq_mask_param=8)\n",
        "\n",
        "# hybridizes two sounds\n",
        "def mixup(spectrogram1, spectrogram2, alpha=0.2):\n",
        "    lam = torch.FloatTensor(1).uniform_(0, alpha).item()\n",
        "    return lam * spectrogram1 + (1 - lam) * spectrogram2\n",
        "\n",
        "# should probably implement a randomization process like above\n",
        "def augment_spectrogram(spectrogram):\n",
        "    augmented = time_mask(spectrogram)  # Apply time masking\n",
        "    augmented = freq_mask(augmented)   # Apply frequency masking\n",
        "    return augmented"
      ],
      "metadata": {
        "id": "khV1u_wUIR-o"
      },
      "execution_count": null,
      "outputs": []
    },
    {
      "cell_type": "code",
      "source": [
        "# Decode audio files\n",
        "def decode_audio(file_tuple):\n",
        "    file_path, file = file_tuple\n",
        "    waveform, sample_rate = torchaudio.load(file_path)\n",
        "    return waveform, sample_rate"
      ],
      "metadata": {
        "id": "2U9n6Z-fPiwY"
      },
      "execution_count": null,
      "outputs": []
    },
    {
      "cell_type": "code",
      "source": [
        "# List audio files\n",
        "file_list_dp = FileLister(root_path=\"./UrbanSound8K/audio\", masks=\"*.wav\")\n",
        "\n",
        "# Open audio files lazily\n",
        "file_opener_dp = FileOpener(file_list_dp, mode=\"rb\")\n",
        "\n",
        "# Decode audio\n",
        "audio_dp = file_opener_dp.map(decode_audio)\n",
        "\n",
        "# Augment raw waveform (pre-spectrogram)\n",
        "augmented_waveform = audio_dp.map(augment_waveform)\n",
        "\n",
        "# Transform waveforms to spectrograms\n",
        "audio_spectrogram_dp = augmented_waveform.map(waveform_to_spectrogram)\n",
        "\n",
        "# Apply data augmentation (post-spectrogram)\n",
        "augmented_dp = audio_spectrogram_dp.map(augment_spectrogram)\n",
        "\n",
        "# Batch and process chunks of data\n",
        "chunked_dp = augmented_dp.batch(batch_size=32)\n",
        "\n",
        "for batch in chunked_dp:\n",
        "    for spectrogram in batch:\n",
        "        print(spectrogram.size())  # Process each spectrogram"
      ],
      "metadata": {
        "id": "BLCzmvxcHvKs"
      },
      "execution_count": null,
      "outputs": []
    }
  ]
}